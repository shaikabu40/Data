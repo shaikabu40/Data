{
 "cells": [
  {
   "cell_type": "code",
   "execution_count": 1,
   "id": "5fc21ca8",
   "metadata": {},
   "outputs": [
    {
     "data": {
      "text/plain": [
       "'Hello world'"
      ]
     },
     "execution_count": 1,
     "metadata": {},
     "output_type": "execute_result"
    }
   ],
   "source": [
    "\"Hello world\""
   ]
  },
  {
   "cell_type": "code",
   "execution_count": 2,
   "id": "c8d9e5a3",
   "metadata": {},
   "outputs": [
    {
     "ename": "NameError",
     "evalue": "name 'fde' is not defined",
     "output_type": "error",
     "traceback": [
      "\u001b[1;31m---------------------------------------------------------------------------\u001b[0m",
      "\u001b[1;31mNameError\u001b[0m                                 Traceback (most recent call last)",
      "Cell \u001b[1;32mIn[2], line 1\u001b[0m\n\u001b[1;32m----> 1\u001b[0m \u001b[43mfde\u001b[49m\n",
      "\u001b[1;31mNameError\u001b[0m: name 'fde' is not defined"
     ]
    }
   ],
   "source": [
    "fde"
   ]
  },
  {
   "cell_type": "code",
   "execution_count": 3,
   "id": "c0becd58",
   "metadata": {},
   "outputs": [
    {
     "ename": "NameError",
     "evalue": "name 'Print' is not defined",
     "output_type": "error",
     "traceback": [
      "\u001b[1;31m---------------------------------------------------------------------------\u001b[0m",
      "\u001b[1;31mNameError\u001b[0m                                 Traceback (most recent call last)",
      "Cell \u001b[1;32mIn[3], line 1\u001b[0m\n\u001b[1;32m----> 1\u001b[0m \u001b[43mPrint\u001b[49m\n",
      "\u001b[1;31mNameError\u001b[0m: name 'Print' is not defined"
     ]
    }
   ],
   "source": [
    "Print\n"
   ]
  },
  {
   "cell_type": "code",
   "execution_count": 4,
   "id": "669fc854",
   "metadata": {},
   "outputs": [
    {
     "data": {
      "text/plain": [
       "<function print>"
      ]
     },
     "execution_count": 4,
     "metadata": {},
     "output_type": "execute_result"
    }
   ],
   "source": [
    "print"
   ]
  },
  {
   "cell_type": "code",
   "execution_count": 5,
   "id": "a7530e23",
   "metadata": {},
   "outputs": [
    {
     "ename": "SyntaxError",
     "evalue": "Missing parentheses in call to 'print'. Did you mean print(...)? (3663538757.py, line 1)",
     "output_type": "error",
     "traceback": [
      "\u001b[1;36m  Cell \u001b[1;32mIn[5], line 1\u001b[1;36m\u001b[0m\n\u001b[1;33m    print\"Hi jupyter\"\u001b[0m\n\u001b[1;37m    ^\u001b[0m\n\u001b[1;31mSyntaxError\u001b[0m\u001b[1;31m:\u001b[0m Missing parentheses in call to 'print'. Did you mean print(...)?\n"
     ]
    }
   ],
   "source": [
    "print\"Hi jupyter\"\n"
   ]
  },
  {
   "cell_type": "code",
   "execution_count": 7,
   "id": "3d56992f",
   "metadata": {},
   "outputs": [
    {
     "name": "stdout",
     "output_type": "stream",
     "text": [
      "hi jupyter\n"
     ]
    }
   ],
   "source": [
    "print(\"hi jupyter\")"
   ]
  },
  {
   "cell_type": "code",
   "execution_count": 9,
   "id": "452db8a5",
   "metadata": {},
   "outputs": [],
   "source": [
    "h=\"hi\""
   ]
  },
  {
   "cell_type": "code",
   "execution_count": 10,
   "id": "c5aaf8d0",
   "metadata": {},
   "outputs": [
    {
     "name": "stdout",
     "output_type": "stream",
     "text": [
      "hi\n"
     ]
    }
   ],
   "source": [
    "print(h)"
   ]
  },
  {
   "cell_type": "code",
   "execution_count": 11,
   "id": "d40c2abe",
   "metadata": {},
   "outputs": [
    {
     "data": {
      "text/plain": [
       "'hi'"
      ]
     },
     "execution_count": 11,
     "metadata": {},
     "output_type": "execute_result"
    }
   ],
   "source": [
    "h"
   ]
  },
  {
   "cell_type": "code",
   "execution_count": 12,
   "id": "a904c9de",
   "metadata": {},
   "outputs": [
    {
     "ename": "NameError",
     "evalue": "name 'zainab' is not defined",
     "output_type": "error",
     "traceback": [
      "\u001b[1;31m---------------------------------------------------------------------------\u001b[0m",
      "\u001b[1;31mNameError\u001b[0m                                 Traceback (most recent call last)",
      "Cell \u001b[1;32mIn[12], line 1\u001b[0m\n\u001b[1;32m----> 1\u001b[0m z\u001b[38;5;241m=\u001b[39m(\u001b[43mzainab\u001b[49m)\n",
      "\u001b[1;31mNameError\u001b[0m: name 'zainab' is not defined"
     ]
    }
   ],
   "source": [
    "z=(zainab)"
   ]
  },
  {
   "cell_type": "code",
   "execution_count": 13,
   "id": "bef41326",
   "metadata": {},
   "outputs": [],
   "source": [
    "z=(\"zainab\")"
   ]
  },
  {
   "cell_type": "code",
   "execution_count": 14,
   "id": "017c0a36",
   "metadata": {},
   "outputs": [
    {
     "data": {
      "text/plain": [
       "'zainab'"
      ]
     },
     "execution_count": 14,
     "metadata": {},
     "output_type": "execute_result"
    }
   ],
   "source": [
    "z"
   ]
  },
  {
   "cell_type": "code",
   "execution_count": 17,
   "id": "a0c15a4d",
   "metadata": {},
   "outputs": [],
   "source": [
    "a=6\n",
    "b=7\n",
    "c=4"
   ]
  },
  {
   "cell_type": "code",
   "execution_count": 18,
   "id": "45f2938d",
   "metadata": {},
   "outputs": [
    {
     "name": "stdout",
     "output_type": "stream",
     "text": [
      "6\n"
     ]
    }
   ],
   "source": [
    "print(a\n",
    "    )"
   ]
  },
  {
   "cell_type": "code",
   "execution_count": 19,
   "id": "d793be24",
   "metadata": {},
   "outputs": [
    {
     "name": "stdout",
     "output_type": "stream",
     "text": [
      "42\n"
     ]
    }
   ],
   "source": [
    "print(a*b\n",
    "     )"
   ]
  },
  {
   "cell_type": "code",
   "execution_count": 20,
   "id": "03f581a8",
   "metadata": {},
   "outputs": [
    {
     "data": {
      "text/plain": [
       "168"
      ]
     },
     "execution_count": 20,
     "metadata": {},
     "output_type": "execute_result"
    }
   ],
   "source": [
    "a*b*c"
   ]
  },
  {
   "cell_type": "code",
   "execution_count": 21,
   "id": "6d3fee93",
   "metadata": {},
   "outputs": [
    {
     "ename": "NameError",
     "evalue": "name 'add' is not defined",
     "output_type": "error",
     "traceback": [
      "\u001b[1;31m---------------------------------------------------------------------------\u001b[0m",
      "\u001b[1;31mNameError\u001b[0m                                 Traceback (most recent call last)",
      "Cell \u001b[1;32mIn[21], line 1\u001b[0m\n\u001b[1;32m----> 1\u001b[0m \u001b[43madd\u001b[49m(ab)\n",
      "\u001b[1;31mNameError\u001b[0m: name 'add' is not defined"
     ]
    }
   ],
   "source": [
    "add(ab)"
   ]
  },
  {
   "cell_type": "code",
   "execution_count": 22,
   "id": "e549af11",
   "metadata": {},
   "outputs": [
    {
     "data": {
      "text/plain": [
       "13"
      ]
     },
     "execution_count": 22,
     "metadata": {},
     "output_type": "execute_result"
    }
   ],
   "source": [
    "a+b"
   ]
  },
  {
   "cell_type": "code",
   "execution_count": 23,
   "id": "8c95aed1",
   "metadata": {},
   "outputs": [
    {
     "ename": "NameError",
     "evalue": "name 'zainab' is not defined",
     "output_type": "error",
     "traceback": [
      "\u001b[1;31m---------------------------------------------------------------------------\u001b[0m",
      "\u001b[1;31mNameError\u001b[0m                                 Traceback (most recent call last)",
      "Cell \u001b[1;32mIn[23], line 1\u001b[0m\n\u001b[1;32m----> 1\u001b[0m \u001b[38;5;28mprint\u001b[39m(\u001b[43mzainab\u001b[49m)\n",
      "\u001b[1;31mNameError\u001b[0m: name 'zainab' is not defined"
     ]
    }
   ],
   "source": [
    "print(zainab)"
   ]
  },
  {
   "cell_type": "code",
   "execution_count": 24,
   "id": "7605b2ae",
   "metadata": {},
   "outputs": [
    {
     "name": "stdout",
     "output_type": "stream",
     "text": [
      "z\n"
     ]
    }
   ],
   "source": [
    "print(\"z\")"
   ]
  },
  {
   "cell_type": "code",
   "execution_count": 25,
   "id": "d24db45c",
   "metadata": {},
   "outputs": [
    {
     "name": "stdout",
     "output_type": "stream",
     "text": [
      "zainab\n"
     ]
    }
   ],
   "source": [
    "print(z\n",
    "    )"
   ]
  },
  {
   "cell_type": "code",
   "execution_count": null,
   "id": "e83a5978",
   "metadata": {},
   "outputs": [],
   "source": []
  }
 ],
 "metadata": {
  "kernelspec": {
   "display_name": "Python 3 (ipykernel)",
   "language": "python",
   "name": "python3"
  },
  "language_info": {
   "codemirror_mode": {
    "name": "ipython",
    "version": 3
   },
   "file_extension": ".py",
   "mimetype": "text/x-python",
   "name": "python",
   "nbconvert_exporter": "python",
   "pygments_lexer": "ipython3",
   "version": "3.10.9"
  }
 },
 "nbformat": 4,
 "nbformat_minor": 5
}
